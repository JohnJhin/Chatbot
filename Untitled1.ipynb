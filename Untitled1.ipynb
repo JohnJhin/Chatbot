{
  "nbformat": 4,
  "nbformat_minor": 0,
  "metadata": {
    "colab": {
      "provenance": []
    },
    "kernelspec": {
      "name": "python3",
      "display_name": "Python 3"
    },
    "language_info": {
      "name": "python"
    }
  },
  "cells": [
    {
      "cell_type": "code",
      "execution_count": 8,
      "metadata": {
        "colab": {
          "base_uri": "https://localhost:8080/"
        },
        "id": "8qMz7hJpovbi",
        "outputId": "7b789ebe-a5d0-4340-b130-24e046298654"
      },
      "outputs": [
        {
          "output_type": "stream",
          "name": "stdout",
          "text": [
            "Digite sua pergunta: olá!\n",
            "resposta:  Olá! Como posso ajudar?\n",
            "\n",
            "\n",
            "\n",
            "Digite sua pergunta: tudo bem com você?\n",
            "resposta:  Tudo bem por aqui, obrigado por perguntar! 😊\n",
            "\n",
            "\n",
            "\n",
            "Digite sua pergunta: fim\n",
            "FIM!\n"
          ]
        }
      ],
      "source": [
        "import os\n",
        "from google.colab import userdata\n",
        "from google import genai\n",
        "from google.genai import types\n",
        "\n",
        "os.environ['GOOGLE_API_KEY'] = userdata.get('GOOGLE_API_KEY')\n",
        "\n",
        "Client = genai.Client()\n",
        "\n",
        "modelo = 'gemini-2.0-flash'\n",
        "\n",
        "resposta = Client.models.generate_content(model=modelo, contents='')\n",
        "\n",
        "chat_config = types.GenerateContentConfig(\n",
        "    system_instruction= 'Você é um assistente pessoal e sempre responde de forma resumida',\n",
        ")\n",
        "\n",
        "chat = Client.chats.create(model=modelo, config=chat_config)\n",
        "\n",
        "prompt = input(\"Digite sua pergunta: \")\n",
        "while prompt != 'fim':\n",
        "  resposta = chat.send_message(prompt)\n",
        "  print('resposta: ', resposta.text)\n",
        "  print('\\n')\n",
        "  prompt = input(\"Digite sua pergunta: \")\n",
        "\n",
        "print(\"FIM!\")"
      ]
    }
  ]
}